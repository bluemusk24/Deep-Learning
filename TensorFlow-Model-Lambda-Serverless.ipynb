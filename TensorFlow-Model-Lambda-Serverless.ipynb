{
 "cells": [
  {
   "cell_type": "code",
   "execution_count": 3,
   "id": "e7589c11",
   "metadata": {},
   "outputs": [
    {
     "name": "stdout",
     "output_type": "stream",
     "text": [
      "Collecting keras-image-helper\n",
      "  Using cached keras_image_helper-0.0.1-py3-none-any.whl (4.6 kB)\n",
      "Requirement already satisfied: numpy in /opt/saturncloud/envs/saturn/lib/python3.9/site-packages (from keras-image-helper) (1.21.6)\n",
      "Requirement already satisfied: pillow in /opt/saturncloud/envs/saturn/lib/python3.9/site-packages (from keras-image-helper) (9.4.0)\n",
      "Installing collected packages: keras-image-helper\n",
      "Successfully installed keras-image-helper-0.0.1\n"
     ]
    }
   ],
   "source": [
    "!pip install keras-image-helper"
   ]
  },
  {
   "cell_type": "code",
   "execution_count": 4,
   "id": "016790b2",
   "metadata": {},
   "outputs": [],
   "source": [
    "import tensorflow.lite as tflite\n",
    "from keras_image_helper import create_preprocessor"
   ]
  },
  {
   "cell_type": "code",
   "execution_count": 5,
   "id": "8a909da0",
   "metadata": {},
   "outputs": [
    {
     "name": "stderr",
     "output_type": "stream",
     "text": [
      "INFO: Created TensorFlow Lite XNNPACK delegate for CPU.\n"
     ]
    }
   ],
   "source": [
    "interpreter = tflite.Interpreter(model_path='clothing-model.tflite')\n",
    "interpreter.allocate_tensors()\n",
    "\n",
    "input_index = interpreter.get_input_details()[0]['index']\n",
    "output_index = interpreter.get_output_details()[0]['index']"
   ]
  },
  {
   "cell_type": "code",
   "execution_count": 6,
   "id": "e048f1df",
   "metadata": {},
   "outputs": [],
   "source": [
    "preprocessor = create_preprocessor('xception', target_size=(299,299))"
   ]
  },
  {
   "cell_type": "code",
   "execution_count": 7,
   "id": "33c8daad",
   "metadata": {},
   "outputs": [],
   "source": [
    "X = preprocessor.from_path('./clothing-dataset-small/test/pants/4aabd82c-82e1-4181-a84d-d0c6e550d26d.jpg')"
   ]
  },
  {
   "cell_type": "code",
   "execution_count": 8,
   "id": "ac524590",
   "metadata": {},
   "outputs": [],
   "source": [
    "interpreter.set_tensor(input_index, X)\n",
    "\n",
    "interpreter.invoke()\n",
    "\n",
    "preds = interpreter.get_tensor(output_index)"
   ]
  },
  {
   "cell_type": "code",
   "execution_count": 9,
   "id": "da5e6912",
   "metadata": {},
   "outputs": [
    {
     "data": {
      "text/plain": [
       "{'dress': -1.8682916,\n",
       " 'hat': -4.7612457,\n",
       " 'longsleeve': -2.316979,\n",
       " 'outwear': -1.0625672,\n",
       " 'pants': 9.8871565,\n",
       " 'shirt': -2.8124275,\n",
       " 'shoes': -3.666287,\n",
       " 'shorts': 3.2003636,\n",
       " 'skirt': -2.6023414,\n",
       " 't-shirt': -4.8350444}"
      ]
     },
     "execution_count": 9,
     "metadata": {},
     "output_type": "execute_result"
    }
   ],
   "source": [
    "classes = ['dress','hat','longsleeve','outwear','pants','shirt','shoes','shorts','skirt','t-shirt']\n",
    "\n",
    "dict(zip(classes, preds[0])) "
   ]
  },
  {
   "cell_type": "code",
   "execution_count": null,
   "id": "2672d933",
   "metadata": {},
   "outputs": [],
   "source": []
  }
 ],
 "metadata": {
  "kernelspec": {
   "display_name": "saturn (Python 3)",
   "language": "python",
   "name": "python3"
  },
  "language_info": {
   "codemirror_mode": {
    "name": "ipython",
    "version": 3
   },
   "file_extension": ".py",
   "mimetype": "text/x-python",
   "name": "python",
   "nbconvert_exporter": "python",
   "pygments_lexer": "ipython3",
   "version": "3.9.15"
  }
 },
 "nbformat": 4,
 "nbformat_minor": 5
}
