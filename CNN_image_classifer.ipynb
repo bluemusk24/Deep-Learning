{
 "cells": [
  {
   "cell_type": "code",
   "execution_count": 2,
   "id": "c7a17a29-73b7-4649-8af5-70aa2c7ea327",
   "metadata": {
    "execution": {
     "iopub.execute_input": "2024-11-03T02:12:29.132116Z",
     "iopub.status.busy": "2024-11-03T02:12:29.131620Z",
     "iopub.status.idle": "2024-11-03T02:12:29.135284Z",
     "shell.execute_reply": "2024-11-03T02:12:29.134651Z",
     "shell.execute_reply.started": "2024-11-03T02:12:29.132091Z"
    }
   },
   "outputs": [],
   "source": [
    "from keras.datasets import cifar10\n",
    "import keras"
   ]
  },
  {
   "cell_type": "code",
   "execution_count": 3,
   "id": "088ec2a4-bd15-459f-9089-9a8b9c99a7bf",
   "metadata": {
    "execution": {
     "iopub.execute_input": "2024-11-03T02:12:41.099487Z",
     "iopub.status.busy": "2024-11-03T02:12:41.099157Z",
     "iopub.status.idle": "2024-11-03T02:12:44.815400Z",
     "shell.execute_reply": "2024-11-03T02:12:44.814879Z",
     "shell.execute_reply.started": "2024-11-03T02:12:41.099468Z"
    }
   },
   "outputs": [
    {
     "name": "stdout",
     "output_type": "stream",
     "text": [
      "Downloading data from https://www.cs.toronto.edu/~kriz/cifar-10-python.tar.gz\n",
      "\u001b[1m170498071/170498071\u001b[0m \u001b[32m━━━━━━━━━━━━━━━━━━━━\u001b[0m\u001b[37m\u001b[0m \u001b[1m2s\u001b[0m 0us/step\n"
     ]
    }
   ],
   "source": [
    "# Load the datasets into training sets and test sets with theri labels\n",
    "(train_images, train_labels), (test_images, test_labels) = cifar10.load_data()"
   ]
  },
  {
   "cell_type": "markdown",
   "id": "99ec6950-3dc3-4316-b6f3-8513e0da3f1a",
   "metadata": {},
   "source": [
    "### Data Preparation"
   ]
  },
  {
   "cell_type": "code",
   "execution_count": 4,
   "id": "6d2f097b-5edd-4daf-b174-8ae89341da5c",
   "metadata": {
    "execution": {
     "iopub.execute_input": "2024-11-03T02:13:29.287442Z",
     "iopub.status.busy": "2024-11-03T02:13:29.287123Z",
     "iopub.status.idle": "2024-11-03T02:13:29.805418Z",
     "shell.execute_reply": "2024-11-03T02:13:29.804805Z",
     "shell.execute_reply.started": "2024-11-03T02:13:29.287421Z"
    }
   },
   "outputs": [],
   "source": [
    "# Normalize the data by converting the image pixels from 255 to 0 -1\n",
    "train_images, test_images = train_images/255.0, test_images/255.0\n",
    "\n",
    "# Convert the image labels to 10 classes using one-hot-encoding\n",
    "train_labels = keras.utils.to_categorical(train_labels, 10)\n",
    "test_labels = keras.utils.to_categorical(test_labels, 10)"
   ]
  },
  {
   "cell_type": "markdown",
   "id": "2ec12697-f1d8-4255-82e3-b935e2277055",
   "metadata": {},
   "source": [
    "### Construct a Convolutioanl Neural Network"
   ]
  },
  {
   "cell_type": "code",
   "execution_count": 5,
   "id": "c1738d19-201e-41a2-a2ae-c956bdcb26f1",
   "metadata": {
    "execution": {
     "iopub.execute_input": "2024-11-03T02:14:58.891272Z",
     "iopub.status.busy": "2024-11-03T02:14:58.890942Z",
     "iopub.status.idle": "2024-11-03T02:14:58.895216Z",
     "shell.execute_reply": "2024-11-03T02:14:58.894723Z",
     "shell.execute_reply.started": "2024-11-03T02:14:58.891251Z"
    }
   },
   "outputs": [],
   "source": [
    "# imports\n",
    "from keras.models import Sequential\n",
    "from keras.layers import Conv2D, MaxPooling2D, Flatten, Dense"
   ]
  },
  {
   "cell_type": "code",
   "execution_count": 7,
   "id": "09bf775f-9536-40a5-92a8-051c4e713343",
   "metadata": {
    "execution": {
     "iopub.execute_input": "2024-11-03T02:15:48.383836Z",
     "iopub.status.busy": "2024-11-03T02:15:48.383470Z",
     "iopub.status.idle": "2024-11-03T02:15:48.412232Z",
     "shell.execute_reply": "2024-11-03T02:15:48.411764Z",
     "shell.execute_reply.started": "2024-11-03T02:15:48.383807Z"
    }
   },
   "outputs": [],
   "source": [
    "# Build the neural network with each layer\n",
    "model = Sequential([\n",
    "    \n",
    "    # convolutional layer with 32 filters, kernel_size, activation function and input size of image\n",
    "    Conv2D(filters=32, kernel_size=(3,3), activation='relu', input_shape=(32,32,3)),\n",
    "    \n",
    "    # image size reduction of the feature maps with max pooling layer\n",
    "    MaxPooling2D(pool_size=(2,2)),\n",
    "    \n",
    "    # another convolutional layer with 64 filters, kernel_size, activation function\n",
    "    Conv2D(filters=64, kernel_size=(3,3), activation='relu'),\n",
    "    \n",
    "    # image size reduction of the feature maps with max pooling layer\n",
    "    MaxPooling2D(pool_size=(2,2)),\n",
    "    \n",
    "    # Flatten layer to convert 2D output to 1D array for the Dense layers\n",
    "    Flatten(),\n",
    "    \n",
    "    # First dense layer with 64 neurons and activation functions to process the features\n",
    "    Dense(64, activation='relu'),\n",
    "    \n",
    "    # Second dense layers with 10 neurons (10 classes). Softmax for multi-class classification and probability output for each class\n",
    "    Dense(10, activation='softmax')\n",
    "])"
   ]
  },
  {
   "cell_type": "code",
   "execution_count": 8,
   "id": "a04c9725-d5aa-4dd9-9ffa-898696e556a1",
   "metadata": {
    "execution": {
     "iopub.execute_input": "2024-11-03T02:16:08.543870Z",
     "iopub.status.busy": "2024-11-03T02:16:08.543557Z",
     "iopub.status.idle": "2024-11-03T02:16:34.515916Z",
     "shell.execute_reply": "2024-11-03T02:16:34.515433Z",
     "shell.execute_reply.started": "2024-11-03T02:16:08.543848Z"
    }
   },
   "outputs": [
    {
     "name": "stdout",
     "output_type": "stream",
     "text": [
      "Epoch 1/10\n"
     ]
    },
    {
     "name": "stderr",
     "output_type": "stream",
     "text": [
      "WARNING: All log messages before absl::InitializeLog() is called are written to STDERR\n",
      "I0000 00:00:1730600171.637483     487 service.cc:146] XLA service 0x7f107c015b80 initialized for platform CUDA (this does not guarantee that XLA will be used). Devices:\n",
      "I0000 00:00:1730600171.637516     487 service.cc:154]   StreamExecutor device (0): Tesla T4, Compute Capability 7.5\n",
      "2024-11-03 02:16:11.665208: I tensorflow/compiler/mlir/tensorflow/utils/dump_mlir_util.cc:268] disabling MLIR crash reproducer, set env var `MLIR_CRASH_REPRODUCER_DIRECTORY` to enable.\n",
      "2024-11-03 02:16:11.806755: I external/local_xla/xla/stream_executor/cuda/cuda_dnn.cc:531] Loaded cuDNN version 8907\n"
     ]
    },
    {
     "name": "stdout",
     "output_type": "stream",
     "text": [
      "\u001b[1m 129/1563\u001b[0m \u001b[32m━\u001b[0m\u001b[37m━━━━━━━━━━━━━━━━━━━\u001b[0m \u001b[1m1s\u001b[0m 1ms/step - accuracy: 0.1695 - loss: 2.2053"
     ]
    },
    {
     "name": "stderr",
     "output_type": "stream",
     "text": [
      "I0000 00:00:1730600172.975205     487 device_compiler.h:188] Compiled cluster using XLA!  This line is logged at most once for the lifetime of the process.\n"
     ]
    },
    {
     "name": "stdout",
     "output_type": "stream",
     "text": [
      "\u001b[1m1563/1563\u001b[0m \u001b[32m━━━━━━━━━━━━━━━━━━━━\u001b[0m\u001b[37m\u001b[0m \u001b[1m5s\u001b[0m 2ms/step - accuracy: 0.3755 - loss: 1.7040\n",
      "Epoch 2/10\n",
      "\u001b[1m1563/1563\u001b[0m \u001b[32m━━━━━━━━━━━━━━━━━━━━\u001b[0m\u001b[37m\u001b[0m \u001b[1m2s\u001b[0m 1ms/step - accuracy: 0.5989 - loss: 1.1421\n",
      "Epoch 3/10\n",
      "\u001b[1m1563/1563\u001b[0m \u001b[32m━━━━━━━━━━━━━━━━━━━━\u001b[0m\u001b[37m\u001b[0m \u001b[1m2s\u001b[0m 1ms/step - accuracy: 0.6526 - loss: 1.0039\n",
      "Epoch 4/10\n",
      "\u001b[1m1563/1563\u001b[0m \u001b[32m━━━━━━━━━━━━━━━━━━━━\u001b[0m\u001b[37m\u001b[0m \u001b[1m2s\u001b[0m 1ms/step - accuracy: 0.6851 - loss: 0.9097\n",
      "Epoch 5/10\n",
      "\u001b[1m1563/1563\u001b[0m \u001b[32m━━━━━━━━━━━━━━━━━━━━\u001b[0m\u001b[37m\u001b[0m \u001b[1m2s\u001b[0m 1ms/step - accuracy: 0.7067 - loss: 0.8402\n",
      "Epoch 6/10\n",
      "\u001b[1m1563/1563\u001b[0m \u001b[32m━━━━━━━━━━━━━━━━━━━━\u001b[0m\u001b[37m\u001b[0m \u001b[1m2s\u001b[0m 1ms/step - accuracy: 0.7264 - loss: 0.7933\n",
      "Epoch 7/10\n",
      "\u001b[1m1563/1563\u001b[0m \u001b[32m━━━━━━━━━━━━━━━━━━━━\u001b[0m\u001b[37m\u001b[0m \u001b[1m2s\u001b[0m 1ms/step - accuracy: 0.7418 - loss: 0.7475\n",
      "Epoch 8/10\n",
      "\u001b[1m1563/1563\u001b[0m \u001b[32m━━━━━━━━━━━━━━━━━━━━\u001b[0m\u001b[37m\u001b[0m \u001b[1m2s\u001b[0m 1ms/step - accuracy: 0.7557 - loss: 0.6966\n",
      "Epoch 9/10\n",
      "\u001b[1m1563/1563\u001b[0m \u001b[32m━━━━━━━━━━━━━━━━━━━━\u001b[0m\u001b[37m\u001b[0m \u001b[1m2s\u001b[0m 1ms/step - accuracy: 0.7753 - loss: 0.6498\n",
      "Epoch 10/10\n",
      "\u001b[1m1563/1563\u001b[0m \u001b[32m━━━━━━━━━━━━━━━━━━━━\u001b[0m\u001b[37m\u001b[0m \u001b[1m2s\u001b[0m 1ms/step - accuracy: 0.7849 - loss: 0.6174\n"
     ]
    },
    {
     "data": {
      "text/plain": [
       "<keras.src.callbacks.history.History at 0x7f1184ecf650>"
      ]
     },
     "execution_count": 8,
     "metadata": {},
     "output_type": "execute_result"
    }
   ],
   "source": [
    "# compile the mdoel with: optimizer - guide for model to learn better and faster\n",
    "model.compile(loss='categorical_crossentropy', optimizer='adam', metrics=['accuracy'])\n",
    "\n",
    "# train the model\n",
    "model.fit(train_images, train_labels, epochs=10)"
   ]
  },
  {
   "cell_type": "code",
   "execution_count": 9,
   "id": "261ab1ab-88be-48f2-8407-2a15f6074d22",
   "metadata": {
    "execution": {
     "iopub.execute_input": "2024-11-03T02:21:54.719338Z",
     "iopub.status.busy": "2024-11-03T02:21:54.719016Z",
     "iopub.status.idle": "2024-11-03T02:21:56.223150Z",
     "shell.execute_reply": "2024-11-03T02:21:56.222604Z",
     "shell.execute_reply.started": "2024-11-03T02:21:54.719314Z"
    }
   },
   "outputs": [
    {
     "name": "stdout",
     "output_type": "stream",
     "text": [
      "\u001b[1m313/313\u001b[0m \u001b[32m━━━━━━━━━━━━━━━━━━━━\u001b[0m\u001b[37m\u001b[0m \u001b[1m1s\u001b[0m 2ms/step - accuracy: 0.7006 - loss: 0.9099\n",
      "Test_Accuracy: 0.6977999806404114\n",
      "Tesl_loss: 0.9163942337036133\n"
     ]
    }
   ],
   "source": [
    "# Evaluate the model on the test images and labels\n",
    "test_loss, test_accuracy = model.evaluate(test_images, test_labels)\n",
    "print(f'Test_Accuracy: {test_accuracy}')\n",
    "print(f'Tesl_loss: {test_loss}')"
   ]
  },
  {
   "cell_type": "code",
   "execution_count": null,
   "id": "62f9f6d1-b69a-4061-8bba-2be561200ffa",
   "metadata": {},
   "outputs": [],
   "source": []
  }
 ],
 "metadata": {
  "kernelspec": {
   "display_name": "saturn (Python 3)",
   "language": "python",
   "name": "python3"
  },
  "language_info": {
   "codemirror_mode": {
    "name": "ipython",
    "version": 3
   },
   "file_extension": ".py",
   "mimetype": "text/x-python",
   "name": "python",
   "nbconvert_exporter": "python",
   "pygments_lexer": "ipython3",
   "version": "3.12.7"
  }
 },
 "nbformat": 4,
 "nbformat_minor": 5
}
