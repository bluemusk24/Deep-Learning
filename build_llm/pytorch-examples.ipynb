{
 "cells": [
  {
   "cell_type": "markdown",
   "id": "f7e88dcc-b7fd-40d8-9fa3-18f5f745ee1c",
   "metadata": {},
   "source": [
    "### Working with PyTorch Examples"
   ]
  },
  {
   "cell_type": "code",
   "execution_count": 2,
   "id": "badac97f-4b3e-44a4-9602-02525f941bc7",
   "metadata": {},
   "outputs": [],
   "source": [
    "import torch"
   ]
  },
  {
   "cell_type": "code",
   "execution_count": 3,
   "id": "8b9bd394-fb32-416b-a5dc-0ce2f2650df1",
   "metadata": {},
   "outputs": [
    {
     "data": {
      "text/plain": [
       "tensor([-34,  56,  83, -50,  80,   0])"
      ]
     },
     "execution_count": 3,
     "metadata": {},
     "output_type": "execute_result"
    }
   ],
   "source": [
    "randint = torch.randint(-100, 100, (6,))\n",
    "randint"
   ]
  },
  {
   "cell_type": "code",
   "execution_count": 4,
   "id": "de3fbc84-d75d-4850-8e6f-7aa7258dbca5",
   "metadata": {},
   "outputs": [
    {
     "data": {
      "text/plain": [
       "tensor([[0., 0., 0.],\n",
       "        [0., 0., 0.]])"
      ]
     },
     "execution_count": 4,
     "metadata": {},
     "output_type": "execute_result"
    }
   ],
   "source": [
    "# 2 X 3 matrices 0f zeros\n",
    "zeros = torch.zeros(2, 3)\n",
    "zeros"
   ]
  },
  {
   "cell_type": "code",
   "execution_count": 5,
   "id": "f9923039-dc66-4bcd-a64d-0825cc27490c",
   "metadata": {},
   "outputs": [
    {
     "data": {
      "text/plain": [
       "tensor([[0.1000, 1.2000],\n",
       "        [2.2000, 3.1000],\n",
       "        [4.9000, 5.2000]])"
      ]
     },
     "execution_count": 5,
     "metadata": {},
     "output_type": "execute_result"
    }
   ],
   "source": [
    "# 3 X 2 Matrix\n",
    "tensor = torch.tensor([[0.1, 1.2], [2.2, 3.1], [4.9, 5.2]])\n",
    "tensor"
   ]
  },
  {
   "cell_type": "code",
   "execution_count": 6,
   "id": "c51a0c95-36ed-4693-8b0d-29f36d878f7e",
   "metadata": {},
   "outputs": [
    {
     "data": {
      "text/plain": [
       "tensor([[1., 1., 1., 1.],\n",
       "        [1., 1., 1., 1.],\n",
       "        [1., 1., 1., 1.]])"
      ]
     },
     "execution_count": 6,
     "metadata": {},
     "output_type": "execute_result"
    }
   ],
   "source": [
    "ones = torch.ones(3,4)\n",
    "ones"
   ]
  },
  {
   "cell_type": "code",
   "execution_count": 7,
   "id": "28c9d035-25ad-4e0a-a17f-587d14ea0a0d",
   "metadata": {},
   "outputs": [
    {
     "data": {
      "text/plain": [
       "tensor([[6.4047e+30, 4.5310e-41, 2.7248e-27],\n",
       "        [0.0000e+00, 0.0000e+00, 0.0000e+00]])"
      ]
     },
     "execution_count": 7,
     "metadata": {},
     "output_type": "execute_result"
    }
   ],
   "source": [
    "input = torch.empty(2,3)\n",
    "input"
   ]
  },
  {
   "cell_type": "code",
   "execution_count": 8,
   "id": "8c14667b-91e0-4d5a-94ec-2f1ff1a5a1a0",
   "metadata": {},
   "outputs": [
    {
     "data": {
      "text/plain": [
       "tensor([0, 1, 2, 3, 4])"
      ]
     },
     "execution_count": 8,
     "metadata": {},
     "output_type": "execute_result"
    }
   ],
   "source": [
    "arange = torch.arange(5)\n",
    "arange"
   ]
  },
  {
   "cell_type": "code",
   "execution_count": 9,
   "id": "8baafc97-b9cd-4282-b4f1-eed61e391263",
   "metadata": {},
   "outputs": [
    {
     "data": {
      "text/plain": [
       "tensor([ 3.0000,  4.7500,  6.5000,  8.2500, 10.0000])"
      ]
     },
     "execution_count": 9,
     "metadata": {},
     "output_type": "execute_result"
    }
   ],
   "source": [
    "linspace = torch.linspace(3, 10, 5)\n",
    "linspace"
   ]
  },
  {
   "cell_type": "code",
   "execution_count": 10,
   "id": "90d6c116-49b3-4d1f-9042-ab26020e527b",
   "metadata": {},
   "outputs": [
    {
     "data": {
      "text/plain": [
       "tensor([1.0000e-10, 1.0000e-05, 1.0000e+00, 1.0000e+05, 1.0000e+10])"
      ]
     },
     "execution_count": 10,
     "metadata": {},
     "output_type": "execute_result"
    }
   ],
   "source": [
    "logspace = torch.logspace(-10, 10, 5)\n",
    "logspace"
   ]
  },
  {
   "cell_type": "code",
   "execution_count": 11,
   "id": "2cae6a7e-9040-494a-95ce-17498a8d6bf0",
   "metadata": {},
   "outputs": [
    {
     "data": {
      "text/plain": [
       "tensor([[1., 0., 0.],\n",
       "        [0., 1., 0.],\n",
       "        [0., 0., 1.]])"
      ]
     },
     "execution_count": 11,
     "metadata": {},
     "output_type": "execute_result"
    }
   ],
   "source": [
    "eye = torch.eye(3)\n",
    "eye"
   ]
  },
  {
   "cell_type": "code",
   "execution_count": 12,
   "id": "2d0e3766-7425-43c7-b5e1-ec3c1f8a814f",
   "metadata": {},
   "outputs": [
    {
     "data": {
      "text/plain": [
       "tensor([[              0,       398589920,       372934032],\n",
       "        [138869984861776,               0,               0]])"
      ]
     },
     "execution_count": 12,
     "metadata": {},
     "output_type": "execute_result"
    }
   ],
   "source": [
    "a=torch.empty((2,3), dtype=torch.int64)\n",
    "empty_like = torch.empty_like(a)\n",
    "empty_like"
   ]
  },
  {
   "cell_type": "markdown",
   "id": "12b48083-6014-4b0e-a287-29362ea08aba",
   "metadata": {},
   "source": [
    "### Advanced Examples with Pytorch"
   ]
  },
  {
   "cell_type": "code",
   "execution_count": 13,
   "id": "7eac8855-b668-4b9a-a4bf-3dcb6f4c5065",
   "metadata": {},
   "outputs": [
    {
     "name": "stdout",
     "output_type": "stream",
     "text": [
      "cpu\n"
     ]
    }
   ],
   "source": [
    "import torch\n",
    "import torch.nn as nn\n",
    "from torch.nn import functional as F\n",
    "import numpy as np\n",
    "import time\n",
    "device = 'cuda' if torch.cuda.is_available() else 'cpu'\n",
    "print(device)"
   ]
  },
  {
   "cell_type": "code",
   "execution_count": 14,
   "id": "be1400c6-b763-416b-8fb6-7b54f4565a1c",
   "metadata": {},
   "outputs": [
    {
     "name": "stdout",
     "output_type": "stream",
     "text": [
      "start time is: 1757189864.9964457\n",
      "end time is 1757189864.9967372\n",
      "elapse time is: 0.0003\n",
      "CPU times: user 279 μs, sys: 209 μs, total: 488 μs\n",
      "Wall time: 403 μs\n"
     ]
    }
   ],
   "source": [
    "%%time\n",
    "start_time = time.time()    \n",
    "print(f'start time is: {start_time}')\n",
    "\n",
    "# matrix operations here\n",
    "zeros = torch.zeros(1, 1)\n",
    "\n",
    "end_time = time.time()\n",
    "print(f'end time is {end_time}')\n",
    "\n",
    "elapsed_time = end_time - start_time\n",
    "print(f\"elapse time is: {elapsed_time:.4f}\")"
   ]
  },
  {
   "cell_type": "markdown",
   "id": "d1fadf9c-40fd-4680-ab80-9e3b0b2117ab",
   "metadata": {},
   "source": [
    "* Matrix Multipliaction of Tensors(tensor.matmul) and Numpy(np.dot)"
   ]
  },
  {
   "cell_type": "code",
   "execution_count": 15,
   "id": "200279da-14f5-4c5f-8d30-9553271092ff",
   "metadata": {},
   "outputs": [
    {
     "name": "stdout",
     "output_type": "stream",
     "text": [
      "Torch time: 1.24154544\n"
     ]
    },
    {
     "ename": "MemoryError",
     "evalue": "Unable to allocate 3.64 TiB for an array with shape (100, 100, 100, 100, 100, 100) and data type float32",
     "output_type": "error",
     "traceback": [
      "\u001b[31m---------------------------------------------------------------------------\u001b[39m",
      "\u001b[31mMemoryError\u001b[39m                               Traceback (most recent call last)",
      "\u001b[36mCell\u001b[39m\u001b[36m \u001b[39m\u001b[32mIn[15]\u001b[39m\u001b[32m, line 16\u001b[39m\n\u001b[32m     11\u001b[39m \u001b[38;5;28mprint\u001b[39m(\u001b[33mf\u001b[39m\u001b[33m\"\u001b[39m\u001b[33mTorch time: \u001b[39m\u001b[38;5;132;01m{\u001b[39;00melapsed_time\u001b[38;5;132;01m:\u001b[39;00m\u001b[33m.8f\u001b[39m\u001b[38;5;132;01m}\u001b[39;00m\u001b[33m\"\u001b[39m)\n\u001b[32m     14\u001b[39m start_time = time.time()\n\u001b[32m---> \u001b[39m\u001b[32m16\u001b[39m rand = \u001b[43mnp\u001b[49m\u001b[43m.\u001b[49m\u001b[43mdot\u001b[49m\u001b[43m(\u001b[49m\u001b[43mnp_rand1\u001b[49m\u001b[43m,\u001b[49m\u001b[43m \u001b[49m\u001b[43mnp_rand2\u001b[49m\u001b[43m)\u001b[49m\n\u001b[32m     17\u001b[39m end_time = time.time()\n\u001b[32m     18\u001b[39m elapsed_time = end_time - start_time\n",
      "\u001b[31mMemoryError\u001b[39m: Unable to allocate 3.64 TiB for an array with shape (100, 100, 100, 100, 100, 100) and data type float32"
     ]
    }
   ],
   "source": [
    "torch_rand1 = torch.rand(100, 100, 100, 100).to(device)\n",
    "torch_rand2 = torch.rand(100, 100, 100, 100).to(device)\n",
    "np_rand1 = torch_rand1.numpy()\n",
    "np_rand2 = torch_rand2.numpy()\n",
    "\n",
    "start_time = time.time()\n",
    "rand = torch.matmul(torch_rand1, torch_rand2)\n",
    "end_time = time.time()\n",
    "\n",
    "elapsed_time = end_time - start_time\n",
    "print(f\"Torch time: {elapsed_time:.8f}\")\n",
    "\n",
    "\n",
    "start_time = time.time()\n",
    "\n",
    "rand = np.dot(np_rand1, np_rand2)\n",
    "end_time = time.time()\n",
    "elapsed_time = end_time - start_time\n",
    "print(f\"Numpy Time:{elapsed_time:.8f}\")"
   ]
  },
  {
   "cell_type": "markdown",
   "id": "f67c4814-5d21-4c7a-ab22-93af6a15587a",
   "metadata": {},
   "source": [
    "* error above bcos of memory from large Numpy array with CPU. Adjusted code below to allow Numpy array with CPU"
   ]
  },
  {
   "cell_type": "code",
   "execution_count": 18,
   "id": "b906bc75-aeb5-42b4-a001-9b2576995aca",
   "metadata": {},
   "outputs": [
    {
     "name": "stdout",
     "output_type": "stream",
     "text": [
      "Torch time: 0.00597882\n",
      "Numpy Time: 0.00051045\n"
     ]
    }
   ],
   "source": [
    "torch_rand1 = torch.rand(100, 100).to(device)\n",
    "torch_rand2 = torch.rand(100, 100).to(device)\n",
    "np_rand1 = torch_rand1.numpy()\n",
    "np_rand2 = torch_rand2.numpy()\n",
    "\n",
    "start_time = time.time()\n",
    "rand = torch.matmul(torch_rand1, torch_rand2)\n",
    "end_time = time.time()\n",
    "\n",
    "elapsed_time = end_time - start_time\n",
    "print(f\"Torch time: {elapsed_time:.8f}\")\n",
    "\n",
    "\n",
    "start_time = time.time()\n",
    "\n",
    "rand = np.dot(np_rand1, np_rand2)\n",
    "end_time = time.time()\n",
    "elapsed_time = end_time - start_time\n",
    "print(f\"Numpy Time: {elapsed_time:.8f}\")"
   ]
  },
  {
   "cell_type": "markdown",
   "id": "a25cee71-e690-4a34-b8e2-f450f3b2fcc2",
   "metadata": {},
   "source": [
    "* embeddings, torch.stack, torch.multinomial, torch.tril, torch.triu, input.T / input.transpose, nn.Linear, torch.cat, F.softmax (show all the examples of functions/methods with pytorch docs)"
   ]
  },
  {
   "cell_type": "code",
   "execution_count": 25,
   "id": "f2e1089e-1510-4e96-a90d-352c8eba73d7",
   "metadata": {},
   "outputs": [
    {
     "name": "stdout",
     "output_type": "stream",
     "text": [
      "tensor([1, 1, 0, 1, 1, 1, 1, 1, 1, 1])\n"
     ]
    }
   ],
   "source": [
    "# Define a probability tensor\n",
    "probabilities = torch.tensor([0.1, 0.9])\n",
    "# 10% or 0.1 => 0, 90% or 0.9 => 1. each probability points to the index of the probability in the tensor\n",
    "# Draw 10 samples from the multinomial distribution\n",
    "samples = torch.multinomial(probabilities, num_samples=10, replacement=True)\n",
    "print(samples)"
   ]
  },
  {
   "cell_type": "code",
   "execution_count": 26,
   "id": "d904f721-54b0-4adb-84ba-6cf74f00041f",
   "metadata": {},
   "outputs": [
    {
     "data": {
      "text/plain": [
       "tensor([1, 2, 3, 4, 5])"
      ]
     },
     "execution_count": 26,
     "metadata": {},
     "output_type": "execute_result"
    }
   ],
   "source": [
    "tensor = torch.tensor([1, 2, 3, 4])\n",
    "out = torch.cat((tensor, torch.tensor([5])), dim=0)\n",
    "out"
   ]
  },
  {
   "cell_type": "code",
   "execution_count": 27,
   "id": "c48ba774-7fea-48be-a4a3-a6858c0cbfb7",
   "metadata": {},
   "outputs": [
    {
     "data": {
      "text/plain": [
       "tensor([[1., 0., 0., 0., 0.],\n",
       "        [1., 1., 0., 0., 0.],\n",
       "        [1., 1., 1., 0., 0.],\n",
       "        [1., 1., 1., 1., 0.],\n",
       "        [1., 1., 1., 1., 1.]])"
      ]
     },
     "execution_count": 27,
     "metadata": {},
     "output_type": "execute_result"
    }
   ],
   "source": [
    "out = torch.tril(torch.ones(5, 5))\n",
    "out"
   ]
  },
  {
   "cell_type": "code",
   "execution_count": 28,
   "id": "b1d3e70d-0665-4f98-90f2-c8b5cd423152",
   "metadata": {},
   "outputs": [
    {
     "data": {
      "text/plain": [
       "tensor([[1., 1., 1., 1., 1.],\n",
       "        [0., 1., 1., 1., 1.],\n",
       "        [0., 0., 1., 1., 1.],\n",
       "        [0., 0., 0., 1., 1.],\n",
       "        [0., 0., 0., 0., 1.]])"
      ]
     },
     "execution_count": 28,
     "metadata": {},
     "output_type": "execute_result"
    }
   ],
   "source": [
    "out = torch.triu(torch.ones(5, 5))\n",
    "out"
   ]
  },
  {
   "cell_type": "code",
   "execution_count": 29,
   "id": "c3eeaa47-5e63-4a8a-ba63-a0a3371248f4",
   "metadata": {},
   "outputs": [
    {
     "data": {
      "text/plain": [
       "tensor([[0., -inf, -inf, -inf, -inf],\n",
       "        [0., 0., -inf, -inf, -inf],\n",
       "        [0., 0., 0., -inf, -inf],\n",
       "        [0., 0., 0., 0., -inf],\n",
       "        [0., 0., 0., 0., 0.]])"
      ]
     },
     "execution_count": 29,
     "metadata": {},
     "output_type": "execute_result"
    }
   ],
   "source": [
    "out = torch.zeros(5, 5).masked_fill(torch.tril(torch.ones(5, 5)) == 0, float('-inf'))\n",
    "out"
   ]
  },
  {
   "cell_type": "code",
   "execution_count": 30,
   "id": "c0fc0b56-39f9-43b7-b903-582c32d3a81f",
   "metadata": {},
   "outputs": [
    {
     "data": {
      "text/plain": [
       "tensor([[1., 0., 0., 0., 0.],\n",
       "        [1., 1., 0., 0., 0.],\n",
       "        [1., 1., 1., 0., 0.],\n",
       "        [1., 1., 1., 1., 0.],\n",
       "        [1., 1., 1., 1., 1.]])"
      ]
     },
     "execution_count": 30,
     "metadata": {},
     "output_type": "execute_result"
    }
   ],
   "source": [
    "torch.exp(out)"
   ]
  },
  {
   "cell_type": "code",
   "execution_count": 31,
   "id": "46126342-e9af-4f2e-98c6-be5957ec5091",
   "metadata": {},
   "outputs": [
    {
     "name": "stdout",
     "output_type": "stream",
     "text": [
      "torch.Size([3, 2, 4])\n",
      "torch.Size([2, 4, 3])\n"
     ]
    }
   ],
   "source": [
    "input = torch.zeros(2, 3, 4)\n",
    "out1 = input.transpose(0, 1)\n",
    "out2 = input.transpose(-2,-1)\n",
    "print(out1.shape)\n",
    "print(out2.shape)\n",
    "# torch.permute works the same but you provide the new order of dimensions instead of the dimensions you'd like to swap."
   ]
  },
  {
   "cell_type": "code",
   "execution_count": 34,
   "id": "a7a38703-de4a-4632-a1c5-6ccae5e2d46f",
   "metadata": {},
   "outputs": [
    {
     "data": {
      "text/plain": [
       "torch.Size([2, 4, 3])"
      ]
     },
     "execution_count": 34,
     "metadata": {},
     "output_type": "execute_result"
    }
   ],
   "source": [
    "out3 = input.transpose(2,1)\n",
    "out3.shape"
   ]
  },
  {
   "cell_type": "code",
   "execution_count": 35,
   "id": "e99537c8-f2b2-42fa-885d-6aea569b1373",
   "metadata": {},
   "outputs": [
    {
     "data": {
      "text/plain": [
       "tensor([[1, 2, 3],\n",
       "        [4, 5, 6],\n",
       "        [7, 8, 9]])"
      ]
     },
     "execution_count": 35,
     "metadata": {},
     "output_type": "execute_result"
    }
   ],
   "source": [
    "tensor1 = torch.tensor([1, 2, 3])\n",
    "tensor2 = torch.tensor([4, 5, 6])\n",
    "tensor3 = torch.tensor([7, 8, 9])\n",
    "\n",
    "# Stack the tensors along a new dimension\n",
    "stacked_tensor = torch.stack([tensor1, tensor2, tensor3])\n",
    "stacked_tensor"
   ]
  },
  {
   "cell_type": "code",
   "execution_count": 36,
   "id": "0ad894e4-09b2-4a30-a090-ff51e000186c",
   "metadata": {},
   "outputs": [
    {
     "name": "stdout",
     "output_type": "stream",
     "text": [
      "tensor([-9.4590,  0.6150,  8.3574], grad_fn=<SqueezeBackward4>)\n"
     ]
    }
   ],
   "source": [
    "import torch.nn as nn\n",
    "sample = torch.tensor([10.,10.,10.])\n",
    "linear = nn.Linear(3, 3, bias=False)\n",
    "print(linear(sample))"
   ]
  },
  {
   "cell_type": "code",
   "execution_count": 37,
   "id": "44368e11-fc30-4300-92d7-f5d54a01b5c0",
   "metadata": {},
   "outputs": [
    {
     "name": "stdout",
     "output_type": "stream",
     "text": [
      "tensor([0.0900, 0.2447, 0.6652])\n"
     ]
    }
   ],
   "source": [
    "import torch.nn.functional as F\n",
    "\n",
    "# Create a tensor\n",
    "tensor1 = torch.tensor([1.0, 2.0, 3.0])\n",
    "\n",
    "# Apply softmax using torch.nn.functional.softmax()\n",
    "softmax_output = F.softmax(tensor1, dim=0)\n",
    "\n",
    "print(softmax_output)"
   ]
  },
  {
   "cell_type": "code",
   "execution_count": 38,
   "id": "5a4e331e-b67d-41ba-a7bc-2d153da02482",
   "metadata": {},
   "outputs": [
    {
     "name": "stdout",
     "output_type": "stream",
     "text": [
      "torch.Size([4, 6])\n",
      "tensor([[ 0.2626, -0.3899, -0.0459,  0.5356, -0.3938, -0.6201],\n",
      "        [ 0.0696, -1.0117, -1.6795,  0.1496, -0.3571, -0.8610],\n",
      "        [-0.7876,  1.1544, -0.0303,  2.4276, -0.5580, -1.1789],\n",
      "        [-0.2317, -0.9215, -1.0096,  0.6754, -0.4608, -1.2462]],\n",
      "       grad_fn=<EmbeddingBackward0>)\n"
     ]
    }
   ],
   "source": [
    "# Initialize an embedding layer\n",
    "vocab_size = 80\n",
    "embedding_dim = 6\n",
    "embedding = nn.Embedding(vocab_size, embedding_dim)\n",
    "\n",
    "# Create some input indices\n",
    "input_indices = torch.LongTensor([1, 5, 3, 2])\n",
    "\n",
    "# Apply the embedding layer\n",
    "embedded_output = embedding(input_indices)\n",
    "\n",
    "# The output will be a tensor of shape (4, 100), where 4 is the number of inputs\n",
    "# and 100 is the dimensionality of the embedding vectors\n",
    "print(embedded_output.shape)\n",
    "print(embedded_output)"
   ]
  },
  {
   "cell_type": "code",
   "execution_count": 39,
   "id": "ac35f44e-42ca-4d5c-ad36-d6e9d199af7a",
   "metadata": {},
   "outputs": [
    {
     "name": "stdout",
     "output_type": "stream",
     "text": [
      "tensor([[ 27,  30,  33],\n",
      "        [ 61,  68,  75],\n",
      "        [ 95, 106, 117]])\n"
     ]
    }
   ],
   "source": [
    "a = torch.tensor([[1,2],[3,4],[5,6]])\n",
    "b = torch.tensor([[7,8,9],[10,11,12]])\n",
    "# print(a @ b)\n",
    "print(torch.matmul(a, b))"
   ]
  },
  {
   "cell_type": "code",
   "execution_count": 40,
   "id": "733a0572-0c7f-4181-8d3f-c592aaace67e",
   "metadata": {},
   "outputs": [
    {
     "name": "stdout",
     "output_type": "stream",
     "text": [
      "tensor([[0., 0., 0.],\n",
      "        [0., 0., 0.],\n",
      "        [0., 0., 0.]])\n"
     ]
    }
   ],
   "source": [
    "int_64 = torch.randint(1, (3, 2)).float()\n",
    "#type int64\n",
    "float_32 = torch.rand(2,3)\n",
    "#type float32\n",
    "# print(int_64.dtype, float_32.dtype)\n",
    "result = torch.matmul(int_64, float_32)\n",
    "print(result)"
   ]
  },
  {
   "cell_type": "code",
   "execution_count": 41,
   "id": "d7187668-a304-4b2c-b402-f68079d74670",
   "metadata": {},
   "outputs": [
    {
     "name": "stdout",
     "output_type": "stream",
     "text": [
      "torch.Size([2, 3, 5])\n",
      "torch.Size([2, 3, 5])\n"
     ]
    }
   ],
   "source": [
    "a = torch.rand(2, 3, 5)\n",
    "print(a.shape)\n",
    "x, y, z = a.shape\n",
    "a = a.view(x,y,z)\n",
    "# print(x, y, z)\n",
    "print(a.shape)"
   ]
  },
  {
   "cell_type": "code",
   "execution_count": 47,
   "id": "0733bd64-4573-48dd-91ea-bb36f9eaf381",
   "metadata": {},
   "outputs": [
    {
     "data": {
      "text/plain": [
       "tensor([[[0.2743, 0.1345, 0.9569, 0.8548, 0.5219],\n",
       "         [0.1153, 0.2327, 0.9624, 0.4295, 0.3357],\n",
       "         [0.4491, 0.7800, 0.1060, 0.5975, 0.5147]],\n",
       "\n",
       "        [[0.3507, 0.4298, 0.0159, 0.1915, 0.0505],\n",
       "         [0.6837, 0.6514, 0.2010, 0.1514, 0.5422],\n",
       "         [0.3481, 0.5383, 0.8319, 0.1856, 0.5809]]])"
      ]
     },
     "execution_count": 47,
     "metadata": {},
     "output_type": "execute_result"
    }
   ],
   "source": [
    "torch.rand(2, 3, 5)"
   ]
  },
  {
   "cell_type": "code",
   "execution_count": 43,
   "id": "8953ae1f-6729-44fb-b71a-723d9f1fcd48",
   "metadata": {},
   "outputs": [
    {
     "name": "stdout",
     "output_type": "stream",
     "text": [
      "tensor([[0.0767, 0.3647, 0.2751, 0.7618, 0.2722, 0.4260, 0.1239, 0.4367, 0.4231,\n",
      "         0.8657],\n",
      "        [0.1572, 0.2108, 0.2206, 0.4179, 0.4902, 0.1085, 0.9080, 0.4709, 0.0756,\n",
      "         0.4717],\n",
      "        [0.6177, 0.5927, 0.1268, 0.3404, 0.8060, 0.4333, 0.9202, 0.1336, 0.8191,\n",
      "         0.6377],\n",
      "        [0.8564, 0.7705, 0.1383, 0.8080, 0.0246, 0.5969, 0.9769, 0.8599, 0.9796,\n",
      "         0.8490],\n",
      "        [0.4151, 0.6143, 0.7870, 0.9617, 0.7809, 0.2220, 0.9264, 0.6579, 0.6434,\n",
      "         0.1488],\n",
      "        [0.2194, 0.1274, 0.5841, 0.9039, 0.2814, 0.0172, 0.6306, 0.8392, 0.1693,\n",
      "         0.2521],\n",
      "        [0.8423, 0.5734, 0.1023, 0.1982, 0.1544, 0.9581, 0.3008, 0.4369, 0.2594,\n",
      "         0.5480],\n",
      "        [0.6100, 0.3380, 0.6081, 0.8880, 0.4269, 0.7367, 0.6936, 0.9762, 0.1033,\n",
      "         0.9902],\n",
      "        [0.1735, 0.9234, 0.1024, 0.8248, 0.6584, 0.4169, 0.9822, 0.0821, 0.6872,\n",
      "         0.4668],\n",
      "        [0.6476, 0.7140, 0.5092, 0.5594, 0.8243, 0.2177, 0.1538, 0.8134, 0.1443,\n",
      "         0.8133],\n",
      "        [0.2213, 0.2055, 0.7594, 0.2839, 0.3705, 0.8534, 0.2588, 0.9506, 0.4808,\n",
      "         0.5981],\n",
      "        [0.3255, 0.2296, 0.2499, 0.9284, 0.1147, 0.7339, 0.0971, 0.6011, 0.5169,\n",
      "         0.7673],\n",
      "        [0.4915, 0.5409, 0.3389, 0.5573, 0.7827, 0.1590, 0.7473, 0.9476, 0.4066,\n",
      "         0.3267],\n",
      "        [0.4011, 0.5340, 0.7353, 0.3637, 0.3918, 0.6230, 0.3742, 0.5098, 0.6353,\n",
      "         0.4873],\n",
      "        [0.3809, 0.8776, 0.0861, 0.4800, 0.8422, 0.3626, 0.9038, 0.9638, 0.9478,\n",
      "         0.1083],\n",
      "        [0.7002, 0.5739, 0.7820, 0.3045, 0.0683, 0.7966, 0.2686, 0.1865, 0.1542,\n",
      "         0.4157],\n",
      "        [0.6262, 0.4800, 0.1815, 0.2460, 0.0246, 0.0889, 0.0782, 0.4492, 0.1555,\n",
      "         0.4874],\n",
      "        [0.3952, 0.6981, 0.9791, 0.3089, 0.5312, 0.3241, 0.2180, 0.6762, 0.0307,\n",
      "         0.4299],\n",
      "        [0.0189, 0.9432, 0.0721, 0.2418, 0.1392, 0.7875, 0.5270, 0.0274, 0.1045,\n",
      "         0.0772],\n",
      "        [0.4532, 0.7930, 0.0197, 0.7003, 0.9598, 0.7686, 0.1790, 0.9807, 0.5992,\n",
      "         0.2469],\n",
      "        [0.6952, 0.0403, 0.2861, 0.2393, 0.1549, 0.4030, 0.3855, 0.4207, 0.1479,\n",
      "         0.2790],\n",
      "        [0.3828, 0.6123, 0.8435, 0.3250, 0.9787, 0.9382, 0.8519, 0.6346, 0.6959,\n",
      "         0.8256],\n",
      "        [0.7983, 0.9233, 0.2677, 0.0177, 0.5105, 0.7146, 0.9273, 0.3736, 0.1666,\n",
      "         0.7240],\n",
      "        [0.2899, 0.5265, 0.7570, 0.7759, 0.6525, 0.0777, 0.0349, 0.1362, 0.2276,\n",
      "         0.8915],\n",
      "        [0.2942, 0.3543, 0.2720, 0.0799, 0.2108, 0.9425, 0.5733, 0.9756, 0.6489,\n",
      "         0.0881],\n",
      "        [0.8815, 0.6737, 0.6208, 0.0666, 0.0722, 0.7731, 0.6083, 0.5927, 0.6862,\n",
      "         0.0228],\n",
      "        [0.5943, 0.9064, 0.4152, 0.3009, 0.7051, 0.2461, 0.6651, 0.2634, 0.2032,\n",
      "         0.3027],\n",
      "        [0.3907, 0.2330, 0.1788, 0.4119, 0.8209, 0.5652, 0.0306, 0.2475, 0.7571,\n",
      "         0.8821],\n",
      "        [0.3202, 0.4270, 0.6593, 0.8616, 0.8092, 0.2161, 0.0734, 0.2084, 0.9528,\n",
      "         0.4120],\n",
      "        [0.6263, 0.2901, 0.6547, 0.2856, 0.6186, 0.8161, 0.7193, 0.5067, 0.6859,\n",
      "         0.0868],\n",
      "        [0.2453, 0.2057, 0.3976, 0.3282, 0.9663, 0.5040, 0.3154, 0.3501, 0.4556,\n",
      "         0.5699],\n",
      "        [0.7094, 0.9583, 0.6121, 0.3864, 0.8464, 0.0886, 0.6601, 0.7862, 0.9704,\n",
      "         0.2497]])\n"
     ]
    },
    {
     "ename": "IndexError",
     "evalue": "too many indices for tensor of dimension 2",
     "output_type": "error",
     "traceback": [
      "\u001b[31m---------------------------------------------------------------------------\u001b[39m",
      "\u001b[31mIndexError\u001b[39m                                Traceback (most recent call last)",
      "\u001b[36mCell\u001b[39m\u001b[36m \u001b[39m\u001b[32mIn[43]\u001b[39m\u001b[32m, line 6\u001b[39m\n\u001b[32m      4\u001b[39m \u001b[38;5;28mprint\u001b[39m(output)\n\u001b[32m      5\u001b[39m \u001b[38;5;66;03m# print(input)\u001b[39;00m\n\u001b[32m----> \u001b[39m\u001b[32m6\u001b[39m \u001b[38;5;28mprint\u001b[39m(\u001b[43moutput\u001b[49m\u001b[43m[\u001b[49m\u001b[43m:\u001b[49m\u001b[43m,\u001b[49m\u001b[43m \u001b[49m\u001b[43m-\u001b[49m\u001b[32;43m1\u001b[39;49m\u001b[43m,\u001b[49m\u001b[43m \u001b[49m\u001b[43m:\u001b[49m\u001b[43m]\u001b[49m)\n",
      "\u001b[31mIndexError\u001b[39m: too many indices for tensor of dimension 2"
     ]
    }
   ],
   "source": [
    "input = torch.rand((4, 8, 10))\n",
    "B, T, C = input.shape\n",
    "output = input.view(B*T, C)\n",
    "print(output)\n",
    "# print(input)\n",
    "print(output[:, -1, :])"
   ]
  },
  {
   "cell_type": "markdown",
   "id": "5e28c258-6cec-41e3-a324-02ef299cc44d",
   "metadata": {},
   "source": [
    "* Activation Function (ReLU, Sigmoid, tanh)"
   ]
  },
  {
   "cell_type": "code",
   "execution_count": 52,
   "id": "dad390b5-86ff-44b3-bb44-7df8e9c0b16c",
   "metadata": {},
   "outputs": [
    {
     "name": "stdout",
     "output_type": "stream",
     "text": [
      "tensor([1.0000])\n"
     ]
    }
   ],
   "source": [
    "x = torch.tensor([10], dtype=torch.float32)\n",
    "y = F.sigmoid(x)\n",
    "print(y)"
   ]
  },
  {
   "cell_type": "code",
   "execution_count": 48,
   "id": "4ebc14e0-a855-4b7e-9f20-239993b7ed8f",
   "metadata": {},
   "outputs": [
    {
     "name": "stdout",
     "output_type": "stream",
     "text": [
      "tensor([1.])\n"
     ]
    }
   ],
   "source": [
    "x = torch.tensor([10], dtype=torch.float32)\n",
    "y = F.tanh(x)\n",
    "print(y)"
   ]
  },
  {
   "cell_type": "code",
   "execution_count": null,
   "id": "8c0cfa2d-50bc-4950-914e-20410755c152",
   "metadata": {},
   "outputs": [],
   "source": []
  }
 ],
 "metadata": {
  "kernelspec": {
   "display_name": "Python 3 (ipykernel)",
   "language": "python",
   "name": "python3"
  },
  "language_info": {
   "codemirror_mode": {
    "name": "ipython",
    "version": 3
   },
   "file_extension": ".py",
   "mimetype": "text/x-python",
   "name": "python",
   "nbconvert_exporter": "python",
   "pygments_lexer": "ipython3",
   "version": "3.11.10"
  }
 },
 "nbformat": 4,
 "nbformat_minor": 5
}
