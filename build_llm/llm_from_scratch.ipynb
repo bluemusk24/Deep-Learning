{
 "cells": [
  {
   "cell_type": "markdown",
   "id": "b408af77-237c-4a9a-ab1b-ba5b11c4c7aa",
   "metadata": {},
   "source": [
    "## BIGRAM TRANSFORMER MODEL"
   ]
  },
  {
   "cell_type": "code",
   "execution_count": 1,
   "id": "1c670858-8be6-4aa5-ac5a-69718bdddcdf",
   "metadata": {},
   "outputs": [
    {
     "name": "stdout",
     "output_type": "stream",
     "text": [
      "cpu\n"
     ]
    }
   ],
   "source": [
    "import torch\n",
    "import torch.nn as nn\n",
    "from torch.nn import functional as F\n",
    "device = 'cuda' if torch.cuda.is_available() else 'cpu'\n",
    "print(device)\n",
    "block_size = 8\n",
    "batch_size = 4\n",
    "max_iters = 1000\n",
    "# eval_interval = 2500\n",
    "learning_rate = 3e-4\n",
    "eval_iters = 250"
   ]
  },
  {
   "cell_type": "code",
   "execution_count": 2,
   "id": "65c33f1e-cadd-4d97-bb6a-974a9db24620",
   "metadata": {},
   "outputs": [
    {
     "name": "stdout",
     "output_type": "stream",
     "text": [
      "232309 ﻿  DOROTHY AND THE WIZARD IN OZ\n",
      "\n",
      "  BY\n",
      "\n",
      "  L. FRANK \n"
     ]
    }
   ],
   "source": [
    "with open('wizard_of_oz.txt', 'r', encoding='utf-8') as f:\n",
    "    text = f.read()\n",
    "print(len(text), text[0:50])    # print the text length and first 50 characters of text"
   ]
  },
  {
   "cell_type": "code",
   "execution_count": 3,
   "id": "be408bb5-ce7c-4131-aaaa-afbff1bf0f66",
   "metadata": {},
   "outputs": [
    {
     "name": "stdout",
     "output_type": "stream",
     "text": [
      "['\\n', ' ', '!', '\"', '&', \"'\", '(', ')', '*', ',', '-', '.', '0', '1', '2', '3', '4', '5', '6', '7', '8', '9', ':', ';', '?', 'A', 'B', 'C', 'D', 'E', 'F', 'G', 'H', 'I', 'J', 'K', 'L', 'M', 'N', 'O', 'P', 'Q', 'R', 'S', 'T', 'U', 'V', 'W', 'X', 'Y', 'Z', '[', ']', '_', 'a', 'b', 'c', 'd', 'e', 'f', 'g', 'h', 'i', 'j', 'k', 'l', 'm', 'n', 'o', 'p', 'q', 'r', 's', 't', 'u', 'v', 'w', 'x', 'y', 'z', '\\ufeff']\n",
      "81\n"
     ]
    }
   ],
   "source": [
    "with open('wizard_of_oz.txt', 'r', encoding='utf-8') as f:\n",
    "    text = f.read()\n",
    "chars = sorted(set(text))\n",
    "print(chars)\n",
    "vocab_size = len(chars)\n",
    "print(vocab_size)"
   ]
  },
  {
   "cell_type": "markdown",
   "id": "61c80464-bdbd-49fa-ba24-6489b140729c",
   "metadata": {},
   "source": [
    "### TOKENIZERS  --- encoder/decoder model using Pytorch tensors"
   ]
  },
  {
   "cell_type": "code",
   "execution_count": 4,
   "id": "e5ad845d-45e4-4eac-bf2b-461865ed7598",
   "metadata": {},
   "outputs": [],
   "source": [
    "string_to_int = { ch:i for i,ch in enumerate(chars) }\n",
    "int_to_string = { i:ch for i,ch in enumerate(chars) }\n",
    "encode = lambda s: [string_to_int[c] for c in s]\n",
    "decode = lambda l: ''.join([int_to_string[i] for i in l])"
   ]
  },
  {
   "cell_type": "code",
   "execution_count": 5,
   "id": "cf2d12da-9b32-4316-bed6-0b4ddc55b7c0",
   "metadata": {},
   "outputs": [
    {
     "name": "stdout",
     "output_type": "stream",
     "text": [
      "[61, 58, 65, 65, 68]\n",
      "hello\n"
     ]
    }
   ],
   "source": [
    "# Test the tokenizer\n",
    "\n",
    "encode_hello = encode('hello')\n",
    "decode_hello = decode(encode_hello)\n",
    "\n",
    "print(encode_hello) \n",
    "print(decode_hello)"
   ]
  },
  {
   "cell_type": "code",
   "execution_count": 6,
   "id": "d4e80721-304b-47c6-a939-8f658a2290d5",
   "metadata": {},
   "outputs": [
    {
     "name": "stdout",
     "output_type": "stream",
     "text": [
      "tensor([80,  1,  1, 28, 39, 42, 39, 44, 32, 49,  1, 25, 38, 28,  1, 44, 32, 29,\n",
      "         1, 47, 33, 50, 25, 42, 28,  1, 33, 38,  1, 39, 50,  0,  0,  1,  1, 26,\n",
      "        49,  0,  0,  1,  1, 36, 11,  1, 30, 42, 25, 38, 35,  1, 26, 25, 45, 37,\n",
      "         0,  0,  1,  1, 25, 45, 44, 32, 39, 42,  1, 39, 30,  1, 44, 32, 29,  1,\n",
      "        47, 33, 50, 25, 42, 28,  1, 39, 30,  1, 39, 50,  9,  1, 44, 32, 29,  1,\n",
      "        36, 25, 38, 28,  1, 39, 30,  1, 39, 50])\n"
     ]
    }
   ],
   "source": [
    "# Tokenizer with Pytorch tensors\n",
    "data = torch.tensor(encode(text), dtype=torch.long)\n",
    "print(data[:100])"
   ]
  },
  {
   "cell_type": "code",
   "execution_count": 12,
   "id": "26227bb8-3ed4-4c3f-bfc6-b6fd66d15902",
   "metadata": {},
   "outputs": [
    {
     "data": {
      "text/plain": [
       "tensor([ 45463, 120591,  81414,  78599])"
      ]
     },
     "execution_count": 12,
     "metadata": {},
     "output_type": "execute_result"
    }
   ],
   "source": [
    "torch.randint(len(data) - block_size, (batch_size,))"
   ]
  },
  {
   "cell_type": "markdown",
   "id": "e032408a-1226-44ff-90ab-f56f905ce7bb",
   "metadata": {},
   "source": [
    "### Validation and Training Splits"
   ]
  },
  {
   "cell_type": "code",
   "execution_count": 18,
   "id": "84fbd07e-677a-4bcd-b57f-4afbabace414",
   "metadata": {},
   "outputs": [
    {
     "name": "stdout",
     "output_type": "stream",
     "text": [
      "inputs:\n",
      "tensor([[62, 67, 60,  1, 72, 68, 66, 58],\n",
      "        [67, 73, 58, 57,  1, 73, 61, 58],\n",
      "        [67, 72, 73, 54, 67, 73, 65, 78],\n",
      "        [ 1, 78, 68, 74,  1, 54, 67, 57]])\n",
      "targets:\n",
      "tensor([[67, 60,  1, 72, 68, 66, 58,  1],\n",
      "        [73, 58, 57,  1, 73, 61, 58,  1],\n",
      "        [72, 73, 54, 67, 73, 65, 78,  1],\n",
      "        [78, 68, 74,  1, 54, 67, 57,  1]])\n"
     ]
    }
   ],
   "source": [
    "n = int(0.8*len(data))\n",
    "train_data = data[:n]\n",
    "val_data = data[n:]\n",
    "\n",
    "def get_batch(split):\n",
    "    data = train_data if split == 'train' else val_data\n",
    "    ix = torch.randint(len(data) - block_size, (batch_size,))\n",
    "    #print(ix)\n",
    "    x = torch.stack([data[i:i+block_size] for i in ix])\n",
    "    y = torch.stack([data[i+1:i+block_size+1] for i in ix])\n",
    "    x, y = x.to(device), y.to(device)\n",
    "    return x, y\n",
    "\n",
    "x, y = get_batch('train')\n",
    "print('inputs:')\n",
    "# print(x.shape)\n",
    "print(x)\n",
    "print('targets:')\n",
    "print(y)"
   ]
  },
  {
   "cell_type": "markdown",
   "id": "53fdf63d-7aae-421b-a405-642bba9e11a9",
   "metadata": {},
   "source": [
    "* Gradient descent(reduce loss when prediciting next token) "
   ]
  },
  {
   "cell_type": "code",
   "execution_count": 19,
   "id": "bf146154-08da-488f-af3f-48756833f4a8",
   "metadata": {},
   "outputs": [],
   "source": [
    "@torch.no_grad()\n",
    "def estimate_loss():\n",
    "    out = {}\n",
    "    model.eval()\n",
    "    for split in ['train', 'val']:\n",
    "        losses = torch.zeros(eval_iters)\n",
    "        for k in range(eval_iters):\n",
    "            X, Y = get_batch(split)\n",
    "            logits, loss = model(X, Y)\n",
    "            losses[k] = loss.item()\n",
    "        out[split] = losses.mean()\n",
    "    model.train()\n",
    "    return out"
   ]
  },
  {
   "cell_type": "markdown",
   "id": "c4d88920-f96d-4711-8abe-0d7d9a090d35",
   "metadata": {},
   "source": [
    "* nn module subclass"
   ]
  },
  {
   "cell_type": "code",
   "execution_count": 20,
   "id": "278512a5-524b-401f-ae24-7bab570bb853",
   "metadata": {},
   "outputs": [
    {
     "name": "stdout",
     "output_type": "stream",
     "text": [
      "\n",
      "Wb6a:Z'Mk9*Gl-FxE]'cl﻿Lf52Pc1??uV5Xz6W8dh\"_uGj1Q,yit.1U 50Xil66\"_DrKnO)UVlW! ZvEX:L7uG?jY MK[L\"mMkT5(f(?Mk_jNe6 Z0WFye'619xg\n",
      "tf-&'ywTljO7DkJ4G._*:pv,KU62y[QH:LRoy\n",
      "Y7zOa﻿n&Zg[QmJMwm﻿U);XDw6W4;CmZz.rbpAEt0\"_f-Z)AERQ?\n",
      "xhHePa?﻿yBS6iYaKG*BR0oK.q;HFHtO8BAgp.\"_bcVvwJwblclh-9(osEUSk8l&]y_[2ye7x-(Hj1q5!9iNI\"rPnKOonpUHwBd-6)vZs*J)uI']6g8KLq;7&]CMm]6B3d_njYoF12?\n",
      "2v.HLcQS!Qby4pcOW-w8e!& hn_\"qB Ip5JFIpd8Iqe76Ia]C2UkpdLZ﻿pUBA.(kBF?_u*c_DqIkJM﻿c4BR8eJMHncVyeRSQ:!xu)& -3PT(-t.8j ﻿)GJ'-ZUU)U!6NjI\"Df_5nI_NeD79xPG\n"
     ]
    }
   ],
   "source": [
    "class BigramLanguageModel(nn.Module):\n",
    "    def __init__(self, vocab_size):\n",
    "        super().__init__()\n",
    "        self.token_embedding_table = nn.Embedding(vocab_size, vocab_size)\n",
    "        \n",
    "    def forward(self, index, targets=None):\n",
    "        logits = self.token_embedding_table(index)\n",
    "        \n",
    "        \n",
    "        if targets is None:\n",
    "            loss = None\n",
    "        else:\n",
    "            B, T, C = logits.shape\n",
    "            logits = logits.view(B*T, C)\n",
    "            targets = targets.view(B*T)\n",
    "            loss = F.cross_entropy(logits, targets)\n",
    "        \n",
    "        return logits, loss\n",
    "    \n",
    "    def generate(self, index, max_new_tokens):\n",
    "        # index is (B, T) array of indices in the current context\n",
    "        for _ in range(max_new_tokens):\n",
    "            # get the predictions\n",
    "            logits, loss = self.forward(index)\n",
    "            # focus only on the last time step\n",
    "            logits = logits[:, -1, :] # becomes (B, C)\n",
    "            # apply softmax to get probabilities\n",
    "            probs = F.softmax(logits, dim=-1) # (B, C)\n",
    "            # sample from the distribution\n",
    "            index_next = torch.multinomial(probs, num_samples=1) # (B, 1)\n",
    "            # append sampled index to the running sequence\n",
    "            index = torch.cat((index, index_next), dim=1) # (B, T+1)\n",
    "        return index\n",
    "\n",
    "model = BigramLanguageModel(vocab_size)\n",
    "m = model.to(device)\n",
    "\n",
    "context = torch.zeros((1,1), dtype=torch.long, device=device)\n",
    "generated_chars = decode(m.generate(context, max_new_tokens=500)[0].tolist())\n",
    "print(generated_chars)"
   ]
  },
  {
   "cell_type": "code",
   "execution_count": 21,
   "id": "4dd4f47b-e941-4430-9484-3e23e9fd25b4",
   "metadata": {},
   "outputs": [
    {
     "name": "stdout",
     "output_type": "stream",
     "text": [
      "step: 0, train loss: 4.928, val loss: 4.925\n",
      "step: 250, train loss: 4.892, val loss: 4.867\n",
      "step: 500, train loss: 4.800, val loss: 4.784\n",
      "step: 750, train loss: 4.736, val loss: 4.735\n",
      "4.520847320556641\n"
     ]
    }
   ],
   "source": [
    "# create a PyTorch optimizer\n",
    "optimizer = torch.optim.AdamW(model.parameters(), lr=learning_rate)\n",
    "\n",
    "for iter in range(max_iters):\n",
    "    if iter % eval_iters == 0:\n",
    "        losses = estimate_loss()\n",
    "        print(f\"step: {iter}, train loss: {losses['train']:.3f}, val loss: {losses['val']:.3f}\")\n",
    "\n",
    "    # sample a batch of data\n",
    "    xb, yb = get_batch('train')\n",
    "\n",
    "    # evaluate the loss\n",
    "    logits, loss = model.forward(xb, yb)\n",
    "    optimizer.zero_grad(set_to_none=True)\n",
    "    loss.backward()\n",
    "    optimizer.step()\n",
    "print(loss.item())"
   ]
  },
  {
   "cell_type": "code",
   "execution_count": 22,
   "id": "84a10229-856d-4028-8952-da00777e6935",
   "metadata": {},
   "outputs": [
    {
     "name": "stdout",
     "output_type": "stream",
     "text": [
      "\n",
      "t﻿Bjtt.8G Y\"qZh-G1:cpe:R*8M[AOYfzM*4J)aKBon!3E7!O[z9p[V*GlgcjY(I4mT﻿﻿u;08Vw*jBAo6Ykhe6Q;ROqUuN_DkN'QCUiQ'hFKCRtHBDsnvmSikM(mn]:\"S;JI, wp-lQbvW5'TS \n",
      "DH_\"w)YoJv,Psp(\n",
      "gcIkj\n",
      "nk& 6z'8d85Y-kShEK\n",
      "[X;?nJ935\"w8cjCIeLB)J!(KVwmTTL1(5k[S1mWYa.*Gz.B4TSNg(?*zXqG12FK:yenr(W5vkO_Z07XUub6Jn(oe6yBFK2Y79xaXqk5BZ 9erw_-?jNA G;C ax0mtrG\n",
      "p0a.e?_\n",
      "6dk﻿s&Hehy&-[ tt.qeOFK[w8Mgs*blH0ImwS,zP8dIf'x_-([1tCFiwp!Oz6N3UcOYI.rtC9Rx﻿x-Y3D1VXL;Cm[]&JAk8)rXAP.w89DrpBvPoJMdmi\"cZ-BXL﻿'iyrHA\"o!Z'JR CY\n",
      "QGQS.17&]\n",
      "qBKx2RUhMHSZa0P\n",
      "PFxE;B6\n"
     ]
    }
   ],
   "source": [
    "context = torch.zeros((1,1), dtype=torch.long, device=device)\n",
    "generated_chars = decode(m.generate(context, max_new_tokens=500)[0].tolist())\n",
    "print(generated_chars)"
   ]
  },
  {
   "cell_type": "code",
   "execution_count": null,
   "id": "f0a31537-8311-4ca1-ba2d-90d97ecf4977",
   "metadata": {},
   "outputs": [],
   "source": []
  }
 ],
 "metadata": {
  "kernelspec": {
   "display_name": "Python 3 (ipykernel)",
   "language": "python",
   "name": "python3"
  },
  "language_info": {
   "codemirror_mode": {
    "name": "ipython",
    "version": 3
   },
   "file_extension": ".py",
   "mimetype": "text/x-python",
   "name": "python",
   "nbconvert_exporter": "python",
   "pygments_lexer": "ipython3",
   "version": "3.11.10"
  }
 },
 "nbformat": 4,
 "nbformat_minor": 5
}
